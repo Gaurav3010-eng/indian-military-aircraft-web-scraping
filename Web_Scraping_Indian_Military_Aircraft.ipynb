{
 "cells": [
  {
   "cell_type": "code",
   "execution_count": 15,
   "id": "7eeee505-7e31-4a18-8b5a-720cfecfc3da",
   "metadata": {},
   "outputs": [
    {
     "name": "stdout",
     "output_type": "stream",
     "text": [
      "Requirement already satisfied: beautifulsoup4 in c:\\users\\gaurav rane\\anaconda3\\lib\\site-packages (4.12.2)\n",
      "Requirement already satisfied: requests in c:\\users\\gaurav rane\\anaconda3\\lib\\site-packages (2.31.0)\n",
      "Requirement already satisfied: soupsieve>1.2 in c:\\users\\gaurav rane\\anaconda3\\lib\\site-packages (from beautifulsoup4) (2.5)\n",
      "Requirement already satisfied: charset-normalizer<4,>=2 in c:\\users\\gaurav rane\\anaconda3\\lib\\site-packages (from requests) (2.0.4)\n",
      "Requirement already satisfied: idna<4,>=2.5 in c:\\users\\gaurav rane\\anaconda3\\lib\\site-packages (from requests) (3.4)\n",
      "Requirement already satisfied: urllib3<3,>=1.21.1 in c:\\users\\gaurav rane\\anaconda3\\lib\\site-packages (from requests) (2.0.7)\n",
      "Requirement already satisfied: certifi>=2017.4.17 in c:\\users\\gaurav rane\\anaconda3\\lib\\site-packages (from requests) (2024.2.2)\n",
      "Note: you may need to restart the kernel to use updated packages.\n"
     ]
    }
   ],
   "source": [
    "pip install beautifulsoup4 requests\n"
   ]
  },
  {
   "cell_type": "code",
   "execution_count": 16,
   "id": "34081a19-e095-4088-b00f-8c816b478abd",
   "metadata": {},
   "outputs": [],
   "source": [
    "import requests\n",
    "from bs4 import BeautifulSoup\n",
    "import pandas as pd"
   ]
  },
  {
   "cell_type": "code",
   "execution_count": 17,
   "id": "7672bf8b-df0d-4958-893c-65a0a4dbbbea",
   "metadata": {},
   "outputs": [],
   "source": [
    "# Fetch the Web Page\n",
    "url = 'https://en.wikipedia.org/wiki/List_of_active_Indian_military_aircraft'\n",
    "response = requests.get(url)"
   ]
  },
  {
   "cell_type": "code",
   "execution_count": 18,
   "id": "4b422da1-e8d4-42d5-a1e0-ac8e63d8eb8f",
   "metadata": {},
   "outputs": [],
   "source": [
    "# Check if the request was successful\n",
    "if response.status_code == 200:\n",
    "    html_content = response.text\n",
    "else:\n",
    "    print(f'Failed to retrieve page: {response.status_code}')\n",
    "    exit()"
   ]
  },
  {
   "cell_type": "code",
   "execution_count": 19,
   "id": "c37b9d50-0dfa-4c02-8a54-3bb22141b7e0",
   "metadata": {},
   "outputs": [],
   "source": [
    "# Parse HTML with BeautifulSoup\n",
    "soup = BeautifulSoup(html_content, 'html.parser')"
   ]
  },
  {
   "cell_type": "code",
   "execution_count": 20,
   "id": "23f6e15d-8498-4cd2-988a-016b1de39915",
   "metadata": {},
   "outputs": [],
   "source": [
    "# Find the Table Containing Data\n",
    "table = soup.find('table', {'class': 'wikitable sortable'})"
   ]
  },
  {
   "cell_type": "code",
   "execution_count": 23,
   "id": "4296b8fc-253b-4c3b-9f25-d6827f211fbd",
   "metadata": {},
   "outputs": [],
   "source": [
    "#  Extract Data from Table Rows\n",
    "data = []\n",
    "rows = table.find_all('tr')\n",
    "for row in rows:\n",
    "    cols = row.find_all('td')\n",
    "    cols = [col.text.strip() for col in cols]\n",
    "    if len(cols) == 5: \n",
    "        data.append(cols)"
   ]
  },
  {
   "cell_type": "code",
   "execution_count": 24,
   "id": "0524e749-95b0-4b2f-b3be-65bff7d0928b",
   "metadata": {},
   "outputs": [],
   "source": [
    "# Clean and Structure Data\n",
    "df = pd.DataFrame(data, columns=['Aircraft', 'Origin', 'Type', 'In service', 'Notes'])"
   ]
  },
  {
   "cell_type": "code",
   "execution_count": 25,
   "id": "97558a0d-c73c-44f4-b06f-93542a1217ab",
   "metadata": {},
   "outputs": [
    {
     "name": "stdout",
     "output_type": "stream",
     "text": [
      "Empty DataFrame\n",
      "Columns: [Aircraft, Origin, Type, In service, Notes]\n",
      "Index: []\n"
     ]
    }
   ],
   "source": [
    "# Print first few rows of the DataFrame\n",
    "print(df.head())"
   ]
  },
  {
   "cell_type": "code",
   "execution_count": 26,
   "id": "43ea466b-77a7-440c-8dbb-1343b41679f3",
   "metadata": {},
   "outputs": [
    {
     "name": "stdout",
     "output_type": "stream",
     "text": [
      "CSV file saved: indian_military_aircraft.csv\n"
     ]
    }
   ],
   "source": [
    "#CSV files\n",
    "csv_file = 'indian_military_aircraft.csv'\n",
    "df.to_csv(csv_file, index=False)\n",
    "print(f'CSV file saved: {csv_file}')"
   ]
  },
  {
   "cell_type": "code",
   "execution_count": null,
   "id": "ac142406-641d-45da-810a-0da50aad18c6",
   "metadata": {},
   "outputs": [],
   "source": []
  }
 ],
 "metadata": {
  "kernelspec": {
   "display_name": "Python 3 (ipykernel)",
   "language": "python",
   "name": "python3"
  },
  "language_info": {
   "codemirror_mode": {
    "name": "ipython",
    "version": 3
   },
   "file_extension": ".py",
   "mimetype": "text/x-python",
   "name": "python",
   "nbconvert_exporter": "python",
   "pygments_lexer": "ipython3",
   "version": "3.11.7"
  }
 },
 "nbformat": 4,
 "nbformat_minor": 5
}
